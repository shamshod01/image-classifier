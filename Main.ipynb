{
  "nbformat": 4,
  "nbformat_minor": 0,
  "metadata": {
    "colab": {
      "name": "ai.ipynb",
      "provenance": [],
      "collapsed_sections": []
    },
    "kernelspec": {
      "name": "python3",
      "display_name": "Python 3"
    },
    "language_info": {
      "name": "python"
    }
  },
  "cells": [
    {
      "cell_type": "code",
      "metadata": {
        "id": "39L80QvK9uKn"
      },
      "source": [
        "import torch \n",
        "import torch.nn as nn\n",
        "from torch.nn import functional as F\n",
        "from torchvision import datasets\n",
        "from torchvision import transforms as T\n",
        "from matplotlib import pyplot as plt"
      ],
      "execution_count": 2,
      "outputs": []
    },
    {
      "cell_type": "code",
      "metadata": {
        "colab": {
          "base_uri": "https://localhost:8080/"
        },
        "id": "e9DTWIIlVK0_",
        "outputId": "f604b4f2-8598-4621-e3a9-8eaa0b9ab133"
      },
      "source": [
        "train_dataset = datasets.SVHN(root='data', split='train', transform=T.ToTensor(), download=True)\n",
        "test_dataset = datasets.SVHN(root='data', split='test', transform=T.ToTensor(), download=True)\n",
        "train_loader = torch.utils.data.DataLoader(train_dataset, batch_size=256, shuffle=True)\n",
        "test_loader = torch.utils.data.DataLoader(test_dataset, batch_size=256, shuffle=True)\n"
      ],
      "execution_count": 37,
      "outputs": [
        {
          "output_type": "stream",
          "text": [
            "Using downloaded and verified file: data/train_32x32.mat\n",
            "Using downloaded and verified file: data/test_32x32.mat\n"
          ],
          "name": "stdout"
        }
      ]
    },
    {
      "cell_type": "code",
      "metadata": {
        "id": "398dGzAbaHoT"
      },
      "source": [
        "def train(model, train_loader, optimizer, i_epoch, device):\n",
        "  \n",
        "  for i, (image, target) in enumerate(train_loader):\n",
        "    image, target = image.to(device), target.to(device)\n",
        "    output = model(image)\n",
        "    \n",
        "    loss = F.cross_entropy(output, target)\n",
        "\n",
        "    model.zero_grad()\n",
        "    loss.backward()\n",
        "    optimizer.step()"
      ],
      "execution_count": 5,
      "outputs": []
    },
    {
      "cell_type": "code",
      "metadata": {
        "id": "uqImjubSaMUY"
      },
      "source": [
        "def test(model, test_loader, i_epoch, device):\n",
        "  accurate = 0 \n",
        "  test_loss_list = []\n",
        "  with torch.no_grad():\n",
        "    for i, (image, target) in enumerate(test_loader):\n",
        "      image,target = image.to(device), target.to(device)\n",
        "      output = model(image)\n",
        "\n",
        "      prediction = torch.argmax(output, dim=1)\n",
        "\n",
        "      test_loss = F.cross_entropy(output, target)\n",
        "\n",
        "      for p, t in zip(prediction, target):\n",
        "        if p==t:\n",
        "          accurate +=1\n",
        "      test_loss_list.append(test_loss.detach().numpy())\n",
        "\n",
        "  accuracy = accurate / len(test_loader.dataset)\n",
        "  accuracy_value.append(accuracy)\n",
        "\n",
        "  average_test_loss = sum(test_loss_list) / len(test_loss_list)\n",
        "  test_loss_by_epoch.append(average_test_loss)\n",
        "  print('epoch: {}, accuracy: {}, loss: {}'.format(i_epoch, accuracy, average_test_loss))"
      ],
      "execution_count": 6,
      "outputs": []
    },
    {
      "cell_type": "code",
      "metadata": {
        "id": "fXnixsAeZHJa"
      },
      "source": [
        "class CNN(nn.Module):\n",
        "  def __init__(self):\n",
        "    super(CNN, self).__init__()\n",
        "\n",
        "    self.conv = nn.Sequential(\n",
        "        nn.Conv2d(3,32,4,2,1),\n",
        "        nn.Dropout(p=0.2),\n",
        "        nn.BatchNorm2d(32),\n",
        "        nn.ReLU(),\n",
        "        nn.Conv2d(32,32,4,2,1),\n",
        "        nn.Dropout(p=0.2),\n",
        "        nn.BatchNorm2d(32),\n",
        "        nn.ReLU(),\n",
        "        nn.Conv2d(32,32,3,1,1),\n",
        "        nn.Dropout(p=0.2),\n",
        "        nn.BatchNorm2d(32),\n",
        "        nn.ReLU(),\n",
        "        nn.Conv2d(32,32,3,2,1),\n",
        "        nn.Dropout(p=0.2),\n",
        "        nn.BatchNorm2d(32),\n",
        "        nn.ReLU(),\n",
        "        nn.Conv2d(32,32,4,2,1),\n",
        "        nn.Dropout(p=0.2),\n",
        "        nn.BatchNorm2d(32),\n",
        "        nn.ReLU(),\n",
        "        nn.AvgPool2d(2),\n",
        "    )\n",
        "\n",
        "    self.fc = nn.Sequential(\n",
        "        nn.Linear(32,10),\n",
        "        nn.Softmax()\n",
        "    )\n",
        "\n",
        "  def forward(self, x):\n",
        "    x = self.conv(x)\n",
        "    x = x.view(-1,32)\n",
        "    return self.fc(x)"
      ],
      "execution_count": 38,
      "outputs": []
    },
    {
      "cell_type": "code",
      "metadata": {
        "colab": {
          "base_uri": "https://localhost:8080/"
        },
        "id": "IFzN0upDZXRC",
        "outputId": "09812397-6106-4ef9-c414-daa52666de96"
      },
      "source": [
        "device = torch.device('cuda' if torch.cuda.is_available() else 'cpu')\n",
        "\n",
        "\n",
        "accuracy_value = []\n",
        "\n",
        "CNN_model = CNN()\n",
        "CNN_model.to(device)\n",
        "\n",
        "CNN_optimizer = torch.optim.Adam(CNN_model.parameters(), lr=0.001)\n",
        "\n",
        "\n",
        "for i_epoch in range(10):\n",
        "  CNN_model.train()\n",
        "  train(CNN_model, train_loader, CNN_optimizer, i_epoch, device)\n",
        "  CNN_model.eval()\n",
        "  test(CNN_model, test_loader, i_epoch, device)"
      ],
      "execution_count": 39,
      "outputs": [
        {
          "output_type": "stream",
          "text": [
            "/usr/local/lib/python3.7/dist-packages/torch/nn/modules/container.py:139: UserWarning: Implicit dimension choice for softmax has been deprecated. Change the call to include dim=X as an argument.\n",
            "  input = module(input)\n"
          ],
          "name": "stderr"
        },
        {
          "output_type": "stream",
          "text": [
            "epoch: 0, accuracy: 0.5444837123540258, loss: 1.9132964844797171\n",
            "epoch: 1, accuracy: 0.8234480639213276, loss: 1.6694780331031949\n",
            "epoch: 2, accuracy: 0.8312077443146896, loss: 1.6389366388320923\n",
            "epoch: 3, accuracy: 0.8493776889981561, loss: 1.6170364291060204\n",
            "epoch: 4, accuracy: 0.865319606637984, loss: 1.5991896449350844\n",
            "epoch: 5, accuracy: 0.8709280885064536, loss: 1.5939782787771786\n",
            "epoch: 6, accuracy: 0.878841425937308, loss: 1.5842415889104207\n",
            "epoch: 7, accuracy: 0.8805316533497234, loss: 1.58312009713229\n",
            "epoch: 8, accuracy: 0.8699293177627535, loss: 1.5940937259617973\n",
            "epoch: 9, accuracy: 0.8827980946527351, loss: 1.5804366165516424\n"
          ],
          "name": "stdout"
        }
      ]
    },
    {
      "cell_type": "code",
      "metadata": {
        "colab": {
          "base_uri": "https://localhost:8080/",
          "height": 325
        },
        "id": "tzWSbbt8aX7a",
        "outputId": "d5fb0992-fe77-4f25-8886-8f301647a33c"
      },
      "source": [
        "fig = plt.figure(figsize=(10,10))\n",
        "accuracy_d = fig.add_subplot(2,1,2)\n",
        "\n",
        "accuracy_d.plot(accuracy_value, color='red')\n",
        "accuracy_d.grid(True, axis='y')\n",
        "accuracy_d.set_title('accuracy')\n",
        "\n",
        "plt.xlabel('epoch')\n",
        "plt.show()"
      ],
      "execution_count": 40,
      "outputs": [
        {
          "output_type": "display_data",
          "data": {
            "image/png": "[encoded data removed]",
            "text/plain": [
              "<Figure size 720x720 with 1 Axes>"
            ]
          },
          "metadata": {
            "tags": [],
            "needs_background": "light"
          }
        }
      ]
    }
  ]
}